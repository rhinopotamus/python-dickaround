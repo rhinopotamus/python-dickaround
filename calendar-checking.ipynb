{
 "cells": [
  {
   "cell_type": "code",
   "execution_count": 1,
   "metadata": {},
   "outputs": [
    {
     "ename": "ModuleNotFoundError",
     "evalue": "No module named 'ics'",
     "output_type": "error",
     "traceback": [
      "\u001b[1;31m---------------------------------------------------------------------------\u001b[0m",
      "\u001b[1;31mModuleNotFoundError\u001b[0m                       Traceback (most recent call last)",
      "Cell \u001b[1;32mIn[1], line 1\u001b[0m\n\u001b[1;32m----> 1\u001b[0m \u001b[39mfrom\u001b[39;00m \u001b[39mics\u001b[39;00m \u001b[39mimport\u001b[39;00m Calendar\n\u001b[0;32m      2\u001b[0m \u001b[39mimport\u001b[39;00m \u001b[39mrequests\u001b[39;00m\n\u001b[0;32m      4\u001b[0m url \u001b[39m=\u001b[39m \u001b[39m\"\u001b[39m\u001b[39mhttps://outlook.office365.com/owa/calendar/d0b9c7f88d7247d7887a20c5136368b8@westminstercollege.edu/ce0b2550cee94ad8a777e5fa98da8b064824737530665218792/calendar.ics\u001b[39m\u001b[39m\"\u001b[39m\n",
      "\u001b[1;31mModuleNotFoundError\u001b[0m: No module named 'ics'"
     ]
    }
   ],
   "source": [
    "from ics import Calendar\n",
    "import requests\n",
    "\n",
    "url = \"https://outlook.office365.com/owa/calendar/d0b9c7f88d7247d7887a20c5136368b8@westminstercollege.edu/ce0b2550cee94ad8a777e5fa98da8b064824737530665218792/calendar.ics\"\n",
    "c = Calendar(requests.get(url).text)\n",
    "\n",
    "c\n",
    "\n",
    "c.events"
   ]
  }
 ],
 "metadata": {
  "kernelspec": {
   "display_name": "Python 3",
   "language": "python",
   "name": "python3"
  },
  "language_info": {
   "codemirror_mode": {
    "name": "ipython",
    "version": 3
   },
   "file_extension": ".py",
   "mimetype": "text/x-python",
   "name": "python",
   "nbconvert_exporter": "python",
   "pygments_lexer": "ipython3",
   "version": "3.11.1"
  },
  "orig_nbformat": 4,
  "vscode": {
   "interpreter": {
    "hash": "4315f57312afaafda5ce07f60646a5a90f8bcb718e7b0da626c555fcbab67049"
   }
  }
 },
 "nbformat": 4,
 "nbformat_minor": 2
}
